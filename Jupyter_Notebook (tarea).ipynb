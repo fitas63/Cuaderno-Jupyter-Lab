{
  "metadata": {
    "kernelspec": {
      "name": "python",
      "display_name": "Pyolite",
      "language": "python"
    },
    "language_info": {
      "codemirror_mode": {
        "name": "python",
        "version": 3
      },
      "file_extension": ".py",
      "mimetype": "text/x-python",
      "name": "python",
      "nbconvert_exporter": "python",
      "pygments_lexer": "ipython3",
      "version": "3.8"
    }
  },
  "nbformat_minor": 4,
  "nbformat": 4,
  "cells": [
    {
      "cell_type": "markdown",
      "source": "<center>\n    <img src=\"https://cf-courses-data.s3.us.cloud-object-storage.appdomain.cloud/IBMDeveloperSkillsNetwork-DS0105EN-SkillsNetwork/labs/Module2/images/SN_web_lightmode.png\" width=\"300\" alt=\"cognitiveclass.ai logo\"  />\n</center>\n",
      "metadata": {}
    },
    {
      "cell_type": "markdown",
      "source": "# My Jupyter Notebook on IBM Watson Studio",
      "metadata": {}
    },
    {
      "cell_type": "markdown",
      "source": "**Evelyn Gatti**\n \n Math Professor",
      "metadata": {}
    },
    {
      "cell_type": "markdown",
      "source": "*I’m interested in data science because I like to analyze things, I like to work with numbers.\nAlso because it is a profession that would allow me to have a better quality of life.*",
      "metadata": {}
    },
    {
      "cell_type": "markdown",
      "source": "### The cell below shows us double 5",
      "metadata": {}
    },
    {
      "cell_type": "code",
      "source": "2*5",
      "metadata": {
        "trusted": true
      },
      "execution_count": 2,
      "outputs": [
        {
          "execution_count": 2,
          "output_type": "execute_result",
          "data": {
            "text/plain": "10"
          },
          "metadata": {}
        }
      ]
    },
    {
      "cell_type": "markdown",
      "source": "~~This is a crossed-out phrase~~\n1. first element\n2. second element\n3. third element\n\n[online search engine](https://www.google.com)\n",
      "metadata": {}
    }
  ]
}